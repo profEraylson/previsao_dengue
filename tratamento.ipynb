{
 "cells": [
  {
   "cell_type": "code",
   "execution_count": 1,
   "metadata": {},
   "outputs": [],
   "source": [
    "import pandas as pd\n",
    "from numpy import where"
   ]
  },
  {
   "cell_type": "code",
   "execution_count": 2,
   "metadata": {},
   "outputs": [],
   "source": [
    "df = pd.read_parquet('dados_dengue.parquet')"
   ]
  },
  {
   "cell_type": "code",
   "execution_count": 3,
   "metadata": {},
   "outputs": [
    {
     "data": {
      "text/plain": [
       "array(['27', '21', '23', '33', '26', '28', '29', '11', '32', '24', '17',\n",
       "       '22', '31', '25', '13', '  ', '15', '16', '12', '14', '35', '43',\n",
       "       '41', '42', '53', '51', '52', '50', 'MG', 'MS', 'MT', 'PA', 'PB',\n",
       "       'CE', 'GO', 'MA', 'PI', 'DF', 'RJ', 'RN', 'RO', 'RR', 'RS', 'SC',\n",
       "       'SE', 'SP', 'ES', 'TO', 'PE', 'PR', 'AC', 'AL', 'AM', 'AP', 'BA',\n",
       "       '\"s'], dtype=object)"
      ]
     },
     "execution_count": 3,
     "metadata": {},
     "output_type": "execute_result"
    }
   ],
   "source": [
    "df['SG_UF_NOT'].unique()"
   ]
  },
  {
   "cell_type": "code",
   "execution_count": 4,
   "metadata": {},
   "outputs": [
    {
     "data": {
      "text/plain": [
       "array(['27', '21', '23', '33', '26', '28', '29', '11', '32', '24', '17',\n",
       "       '22', '31', '25', '13', '  ', '15', '16', '12', '14', '35', '53',\n",
       "       '51', '43', '41', '42', '52', '50', 'MG', 'PR', 'MS', 'SC', 'MT',\n",
       "       'RO', 'BA', 'MA', 'AC', 'GO', 'PA', 'TO', 'PI', 'AP', 'PE', 'RR',\n",
       "       'RN', 'PB', 'CE', 'AM', 'DF', 'RJ', 'SP', 'RS', 'SE', 'ES', 'AL',\n",
       "       'NG', '00', 'MH', 'F ', '2 ', '61', 'MF', '1 ', '07'], dtype=object)"
      ]
     },
     "execution_count": 4,
     "metadata": {},
     "output_type": "execute_result"
    }
   ],
   "source": [
    "df['SG_UF'].unique()"
   ]
  },
  {
   "cell_type": "code",
   "execution_count": 5,
   "metadata": {},
   "outputs": [],
   "source": [
    "codigos = pd.read_html('https://sistemasweb.agricultura.gov.br/manuais/Manual_PGA_WS/322CodigoIBGESigladaUnidadeFeder.html')"
   ]
  },
  {
   "cell_type": "code",
   "execution_count": 6,
   "metadata": {},
   "outputs": [],
   "source": [
    "cod_uf = codigos[0]\n",
    "cod_uf.columns = ['cod', 'uf']\n",
    "cod_uf['cod'] = cod_uf['cod'].astype('object')"
   ]
  },
  {
   "cell_type": "code",
   "execution_count": 7,
   "metadata": {},
   "outputs": [
    {
     "data": {
      "text/plain": [
       "cod    object\n",
       "uf     object\n",
       "dtype: object"
      ]
     },
     "execution_count": 7,
     "metadata": {},
     "output_type": "execute_result"
    }
   ],
   "source": [
    "cod_uf.dtypes"
   ]
  },
  {
   "cell_type": "code",
   "execution_count": 8,
   "metadata": {},
   "outputs": [
    {
     "data": {
      "text/plain": [
       "ID_MUNICIP            object\n",
       "ID_UNIDADE            object\n",
       "DT_NOTIFIC    datetime64[ns]\n",
       "SG_UF_NOT             object\n",
       "SG_UF                 object\n",
       "dtype: object"
      ]
     },
     "execution_count": 8,
     "metadata": {},
     "output_type": "execute_result"
    }
   ],
   "source": [
    "df.dtypes"
   ]
  },
  {
   "cell_type": "code",
   "execution_count": 9,
   "metadata": {},
   "outputs": [
    {
     "data": {
      "text/plain": [
       "array(['27', '21', '23', '33', '26', '28', '29', '11', '32', '24', '17',\n",
       "       '22', '31', '25', '13', '  ', '15', '16', '12', '14', '35', '43',\n",
       "       '41', '42', '53', '51', '52', '50', 'MG', 'MS', 'MT', 'PA', 'PB',\n",
       "       'CE', 'GO', 'MA', 'PI', 'DF', 'RJ', 'RN', 'RO', 'RR', 'RS', 'SC',\n",
       "       'SE', 'SP', 'ES', 'TO', 'PE', 'PR', 'AC', 'AL', 'AM', 'AP', 'BA',\n",
       "       '\"s'], dtype=object)"
      ]
     },
     "execution_count": 9,
     "metadata": {},
     "output_type": "execute_result"
    }
   ],
   "source": [
    "df['SG_UF_NOT'].unique()"
   ]
  },
  {
   "cell_type": "code",
   "execution_count": 10,
   "metadata": {},
   "outputs": [],
   "source": [
    "cod_uf['cod'] = cod_uf['cod'].apply(lambda x: str(x)) "
   ]
  },
  {
   "cell_type": "code",
   "execution_count": 11,
   "metadata": {},
   "outputs": [
    {
     "data": {
      "text/html": [
       "<div>\n",
       "<style scoped>\n",
       "    .dataframe tbody tr th:only-of-type {\n",
       "        vertical-align: middle;\n",
       "    }\n",
       "\n",
       "    .dataframe tbody tr th {\n",
       "        vertical-align: top;\n",
       "    }\n",
       "\n",
       "    .dataframe thead th {\n",
       "        text-align: right;\n",
       "    }\n",
       "</style>\n",
       "<table border=\"1\" class=\"dataframe\">\n",
       "  <thead>\n",
       "    <tr style=\"text-align: right;\">\n",
       "      <th></th>\n",
       "      <th>cod</th>\n",
       "      <th>uf</th>\n",
       "    </tr>\n",
       "  </thead>\n",
       "  <tbody>\n",
       "    <tr>\n",
       "      <th>0</th>\n",
       "      <td>11</td>\n",
       "      <td>RO</td>\n",
       "    </tr>\n",
       "    <tr>\n",
       "      <th>1</th>\n",
       "      <td>12</td>\n",
       "      <td>AC</td>\n",
       "    </tr>\n",
       "    <tr>\n",
       "      <th>2</th>\n",
       "      <td>13</td>\n",
       "      <td>AM</td>\n",
       "    </tr>\n",
       "    <tr>\n",
       "      <th>3</th>\n",
       "      <td>14</td>\n",
       "      <td>RR</td>\n",
       "    </tr>\n",
       "    <tr>\n",
       "      <th>4</th>\n",
       "      <td>15</td>\n",
       "      <td>PA</td>\n",
       "    </tr>\n",
       "    <tr>\n",
       "      <th>5</th>\n",
       "      <td>16</td>\n",
       "      <td>AP</td>\n",
       "    </tr>\n",
       "    <tr>\n",
       "      <th>6</th>\n",
       "      <td>17</td>\n",
       "      <td>TO</td>\n",
       "    </tr>\n",
       "    <tr>\n",
       "      <th>7</th>\n",
       "      <td>21</td>\n",
       "      <td>MA</td>\n",
       "    </tr>\n",
       "    <tr>\n",
       "      <th>8</th>\n",
       "      <td>22</td>\n",
       "      <td>PI</td>\n",
       "    </tr>\n",
       "    <tr>\n",
       "      <th>9</th>\n",
       "      <td>23</td>\n",
       "      <td>CE</td>\n",
       "    </tr>\n",
       "    <tr>\n",
       "      <th>10</th>\n",
       "      <td>24</td>\n",
       "      <td>RN</td>\n",
       "    </tr>\n",
       "    <tr>\n",
       "      <th>11</th>\n",
       "      <td>25</td>\n",
       "      <td>PB</td>\n",
       "    </tr>\n",
       "    <tr>\n",
       "      <th>12</th>\n",
       "      <td>26</td>\n",
       "      <td>PE</td>\n",
       "    </tr>\n",
       "    <tr>\n",
       "      <th>13</th>\n",
       "      <td>27</td>\n",
       "      <td>AL</td>\n",
       "    </tr>\n",
       "    <tr>\n",
       "      <th>14</th>\n",
       "      <td>28</td>\n",
       "      <td>SE</td>\n",
       "    </tr>\n",
       "    <tr>\n",
       "      <th>15</th>\n",
       "      <td>29</td>\n",
       "      <td>BA</td>\n",
       "    </tr>\n",
       "    <tr>\n",
       "      <th>16</th>\n",
       "      <td>31</td>\n",
       "      <td>MG</td>\n",
       "    </tr>\n",
       "    <tr>\n",
       "      <th>17</th>\n",
       "      <td>32</td>\n",
       "      <td>ES</td>\n",
       "    </tr>\n",
       "    <tr>\n",
       "      <th>18</th>\n",
       "      <td>33</td>\n",
       "      <td>RJ</td>\n",
       "    </tr>\n",
       "    <tr>\n",
       "      <th>19</th>\n",
       "      <td>35</td>\n",
       "      <td>SP</td>\n",
       "    </tr>\n",
       "    <tr>\n",
       "      <th>20</th>\n",
       "      <td>41</td>\n",
       "      <td>PR</td>\n",
       "    </tr>\n",
       "    <tr>\n",
       "      <th>21</th>\n",
       "      <td>42</td>\n",
       "      <td>SC</td>\n",
       "    </tr>\n",
       "    <tr>\n",
       "      <th>22</th>\n",
       "      <td>43</td>\n",
       "      <td>RS</td>\n",
       "    </tr>\n",
       "    <tr>\n",
       "      <th>23</th>\n",
       "      <td>50</td>\n",
       "      <td>MS</td>\n",
       "    </tr>\n",
       "    <tr>\n",
       "      <th>24</th>\n",
       "      <td>51</td>\n",
       "      <td>MT</td>\n",
       "    </tr>\n",
       "    <tr>\n",
       "      <th>25</th>\n",
       "      <td>52</td>\n",
       "      <td>GO</td>\n",
       "    </tr>\n",
       "    <tr>\n",
       "      <th>26</th>\n",
       "      <td>53</td>\n",
       "      <td>DF</td>\n",
       "    </tr>\n",
       "    <tr>\n",
       "      <th>27</th>\n",
       "      <td>99</td>\n",
       "      <td>BR</td>\n",
       "    </tr>\n",
       "  </tbody>\n",
       "</table>\n",
       "</div>"
      ],
      "text/plain": [
       "   cod  uf\n",
       "0   11  RO\n",
       "1   12  AC\n",
       "2   13  AM\n",
       "3   14  RR\n",
       "4   15  PA\n",
       "5   16  AP\n",
       "6   17  TO\n",
       "7   21  MA\n",
       "8   22  PI\n",
       "9   23  CE\n",
       "10  24  RN\n",
       "11  25  PB\n",
       "12  26  PE\n",
       "13  27  AL\n",
       "14  28  SE\n",
       "15  29  BA\n",
       "16  31  MG\n",
       "17  32  ES\n",
       "18  33  RJ\n",
       "19  35  SP\n",
       "20  41  PR\n",
       "21  42  SC\n",
       "22  43  RS\n",
       "23  50  MS\n",
       "24  51  MT\n",
       "25  52  GO\n",
       "26  53  DF\n",
       "27  99  BR"
      ]
     },
     "execution_count": 11,
     "metadata": {},
     "output_type": "execute_result"
    }
   ],
   "source": [
    "cod_uf"
   ]
  },
  {
   "cell_type": "code",
   "execution_count": 12,
   "metadata": {},
   "outputs": [],
   "source": [
    "cod_uf_dict = meu_dict = dict(zip(cod_uf['cod'].values, cod_uf['uf'].values))"
   ]
  },
  {
   "cell_type": "code",
   "execution_count": 13,
   "metadata": {},
   "outputs": [],
   "source": [
    "df['SG_UF'] = df['SG_UF'].apply(lambda x: cod_uf_dict.get(x, x))"
   ]
  },
  {
   "cell_type": "code",
   "execution_count": 14,
   "metadata": {},
   "outputs": [
    {
     "data": {
      "text/plain": [
       "Index(['07', 'MF', '61', '2 ', '00', 'F ', '1 ', 'NG', 'MH', '  ', 'AP', 'RR'], dtype='object')"
      ]
     },
     "execution_count": 14,
     "metadata": {},
     "output_type": "execute_result"
    }
   ],
   "source": [
    "df['SG_UF'].value_counts(ascending=True).head(12).index"
   ]
  },
  {
   "cell_type": "code",
   "execution_count": 15,
   "metadata": {},
   "outputs": [
    {
     "data": {
      "text/html": [
       "<div>\n",
       "<style scoped>\n",
       "    .dataframe tbody tr th:only-of-type {\n",
       "        vertical-align: middle;\n",
       "    }\n",
       "\n",
       "    .dataframe tbody tr th {\n",
       "        vertical-align: top;\n",
       "    }\n",
       "\n",
       "    .dataframe thead th {\n",
       "        text-align: right;\n",
       "    }\n",
       "</style>\n",
       "<table border=\"1\" class=\"dataframe\">\n",
       "  <thead>\n",
       "    <tr style=\"text-align: right;\">\n",
       "      <th></th>\n",
       "      <th>ID_MUNICIP</th>\n",
       "      <th>ID_UNIDADE</th>\n",
       "      <th>DT_NOTIFIC</th>\n",
       "      <th>SG_UF_NOT</th>\n",
       "      <th>SG_UF</th>\n",
       "    </tr>\n",
       "  </thead>\n",
       "  <tbody>\n",
       "    <tr>\n",
       "      <th>373</th>\n",
       "      <td>221100</td>\n",
       "      <td>2323281</td>\n",
       "      <td>2007-05-03</td>\n",
       "      <td></td>\n",
       "      <td></td>\n",
       "    </tr>\n",
       "    <tr>\n",
       "      <th>5982</th>\n",
       "      <td>140045</td>\n",
       "      <td>2476827</td>\n",
       "      <td>2007-05-02</td>\n",
       "      <td>14</td>\n",
       "      <td></td>\n",
       "    </tr>\n",
       "    <tr>\n",
       "      <th>5984</th>\n",
       "      <td>140045</td>\n",
       "      <td>2476827</td>\n",
       "      <td>2007-06-18</td>\n",
       "      <td>14</td>\n",
       "      <td></td>\n",
       "    </tr>\n",
       "    <tr>\n",
       "      <th>58315</th>\n",
       "      <td>411845</td>\n",
       "      <td>2779935</td>\n",
       "      <td>2007-06-11</td>\n",
       "      <td>41</td>\n",
       "      <td></td>\n",
       "    </tr>\n",
       "    <tr>\n",
       "      <th>58729</th>\n",
       "      <td>410150</td>\n",
       "      <td>2576341</td>\n",
       "      <td>2007-05-04</td>\n",
       "      <td>41</td>\n",
       "      <td></td>\n",
       "    </tr>\n",
       "    <tr>\n",
       "      <th>...</th>\n",
       "      <td>...</td>\n",
       "      <td>...</td>\n",
       "      <td>...</td>\n",
       "      <td>...</td>\n",
       "      <td>...</td>\n",
       "    </tr>\n",
       "    <tr>\n",
       "      <th>24448256</th>\n",
       "      <td>4108304</td>\n",
       "      <td>2673177</td>\n",
       "      <td>2006-04-26</td>\n",
       "      <td>PR</td>\n",
       "      <td></td>\n",
       "    </tr>\n",
       "    <tr>\n",
       "      <th>24448487</th>\n",
       "      <td>4123501</td>\n",
       "      <td>4055853</td>\n",
       "      <td>2006-04-21</td>\n",
       "      <td>PR</td>\n",
       "      <td></td>\n",
       "    </tr>\n",
       "    <tr>\n",
       "      <th>24448488</th>\n",
       "      <td>4123501</td>\n",
       "      <td>4055853</td>\n",
       "      <td>2006-05-02</td>\n",
       "      <td>PR</td>\n",
       "      <td></td>\n",
       "    </tr>\n",
       "    <tr>\n",
       "      <th>24448576</th>\n",
       "      <td>4108304</td>\n",
       "      <td>2673177</td>\n",
       "      <td>2006-05-15</td>\n",
       "      <td>PR</td>\n",
       "      <td></td>\n",
       "    </tr>\n",
       "    <tr>\n",
       "      <th>24448620</th>\n",
       "      <td>4108304</td>\n",
       "      <td>2673010</td>\n",
       "      <td>2006-05-11</td>\n",
       "      <td>PR</td>\n",
       "      <td></td>\n",
       "    </tr>\n",
       "  </tbody>\n",
       "</table>\n",
       "<p>5238 rows × 5 columns</p>\n",
       "</div>"
      ],
      "text/plain": [
       "         ID_MUNICIP ID_UNIDADE DT_NOTIFIC SG_UF_NOT SG_UF\n",
       "373          221100    2323281 2007-05-03                \n",
       "5982         140045    2476827 2007-05-02        14      \n",
       "5984         140045    2476827 2007-06-18        14      \n",
       "58315        411845    2779935 2007-06-11        41      \n",
       "58729        410150    2576341 2007-05-04        41      \n",
       "...             ...        ...        ...       ...   ...\n",
       "24448256    4108304    2673177 2006-04-26        PR      \n",
       "24448487    4123501    4055853 2006-04-21        PR      \n",
       "24448488    4123501    4055853 2006-05-02        PR      \n",
       "24448576    4108304    2673177 2006-05-15        PR      \n",
       "24448620    4108304    2673010 2006-05-11        PR      \n",
       "\n",
       "[5238 rows x 5 columns]"
      ]
     },
     "execution_count": 15,
     "metadata": {},
     "output_type": "execute_result"
    }
   ],
   "source": [
    "df.query(\"SG_UF == '  ' \")"
   ]
  },
  {
   "cell_type": "code",
   "execution_count": 16,
   "metadata": {},
   "outputs": [],
   "source": [
    "df['SG_UF_NOT'] = df['SG_UF_NOT'].apply(lambda x: cod_uf_dict.get(x, x))"
   ]
  },
  {
   "cell_type": "code",
   "execution_count": 17,
   "metadata": {},
   "outputs": [
    {
     "data": {
      "text/plain": [
       "Index(['\"s', '  ', 'AP', 'RR', 'SE', 'RS', 'MA', 'RO', 'PI', 'AM', 'AC', 'TO'], dtype='object')"
      ]
     },
     "execution_count": 17,
     "metadata": {},
     "output_type": "execute_result"
    }
   ],
   "source": [
    "df['SG_UF_NOT'].value_counts(ascending=True).head(12).index"
   ]
  },
  {
   "cell_type": "code",
   "execution_count": 18,
   "metadata": {},
   "outputs": [],
   "source": [
    "df.loc[df['SG_UF_NOT'] == '\\\"s', 'SG_UF_NOT'] = 'CE'"
   ]
  },
  {
   "cell_type": "code",
   "execution_count": 19,
   "metadata": {},
   "outputs": [
    {
     "data": {
      "text/plain": [
       "Index(['  ', 'AP', 'RR', 'SE', 'RS', 'MA', 'RO', 'PI', 'AM', 'AC', 'TO', 'SC'], dtype='object')"
      ]
     },
     "execution_count": 19,
     "metadata": {},
     "output_type": "execute_result"
    }
   ],
   "source": [
    "df['SG_UF_NOT'].value_counts(ascending=True).head(12).index"
   ]
  },
  {
   "cell_type": "code",
   "execution_count": 20,
   "metadata": {},
   "outputs": [],
   "source": [
    "df.loc[df['SG_UF_NOT'] == '  ', 'SG_UF_NOT'] = df.loc[df['SG_UF_NOT'] == '  ', 'SG_UF']"
   ]
  },
  {
   "cell_type": "code",
   "execution_count": 21,
   "metadata": {},
   "outputs": [
    {
     "data": {
      "text/plain": [
       "07        1\n",
       "MF        1\n",
       "61        1\n",
       "2         1\n",
       "00        1\n",
       "F         1\n",
       "1         1\n",
       "NG        2\n",
       "MH        3\n",
       "         14\n",
       "AP    63955\n",
       "RR    94051\n",
       "Name: SG_UF_NOT, dtype: int64"
      ]
     },
     "execution_count": 21,
     "metadata": {},
     "output_type": "execute_result"
    }
   ],
   "source": [
    "df['SG_UF_NOT'].value_counts(ascending=True).head(12)"
   ]
  },
  {
   "cell_type": "code",
   "execution_count": 22,
   "metadata": {},
   "outputs": [
    {
     "data": {
      "text/plain": [
       "Index(['07', 'MF', '61', '2 ', '00', 'F ', '1 ', 'NG', 'MH', '  ', 'AP', 'RR'], dtype='object')"
      ]
     },
     "execution_count": 22,
     "metadata": {},
     "output_type": "execute_result"
    }
   ],
   "source": [
    "df['SG_UF_NOT'].value_counts(ascending=True).head(12).index"
   ]
  },
  {
   "cell_type": "code",
   "execution_count": 23,
   "metadata": {},
   "outputs": [],
   "source": [
    "\n",
    "\n",
    "UFs_to_delete = ['07', 'MF', '61', '2 ', '00', 'F ', '1 ', 'NG', 'MH', '  ']\n",
    "df = df[~df['SG_UF_NOT'].isin(UFs_to_delete)]"
   ]
  },
  {
   "cell_type": "code",
   "execution_count": 24,
   "metadata": {},
   "outputs": [
    {
     "data": {
      "text/plain": [
       "array(['AL', 'MA', 'CE', 'RJ', 'PE', 'SE', 'BA', 'RO', 'ES', 'RN', 'TO',\n",
       "       'PI', 'MG', 'PB', 'AM', 'PA', 'AP', 'AC', 'RR', 'SP', 'RS', 'PR',\n",
       "       'SC', 'DF', 'MT', 'GO', 'MS'], dtype=object)"
      ]
     },
     "execution_count": 24,
     "metadata": {},
     "output_type": "execute_result"
    }
   ],
   "source": [
    "df['SG_UF_NOT'].unique()"
   ]
  },
  {
   "cell_type": "code",
   "execution_count": 25,
   "metadata": {},
   "outputs": [],
   "source": [
    "result = df.groupby(['SG_UF_NOT', 'ID_MUNICIP', 'DT_NOTIFIC'])['DT_NOTIFIC'].count()"
   ]
  },
  {
   "cell_type": "code",
   "execution_count": 26,
   "metadata": {},
   "outputs": [],
   "source": [
    "df_series = pd.DataFrame(result)\n",
    "df_series.columns = ['Notificações']"
   ]
  },
  {
   "cell_type": "code",
   "execution_count": 27,
   "metadata": {},
   "outputs": [],
   "source": [
    "df_series = df_series.reset_index()"
   ]
  },
  {
   "cell_type": "code",
   "execution_count": 28,
   "metadata": {},
   "outputs": [
    {
     "data": {
      "text/html": [
       "<div>\n",
       "<style scoped>\n",
       "    .dataframe tbody tr th:only-of-type {\n",
       "        vertical-align: middle;\n",
       "    }\n",
       "\n",
       "    .dataframe tbody tr th {\n",
       "        vertical-align: top;\n",
       "    }\n",
       "\n",
       "    .dataframe thead th {\n",
       "        text-align: right;\n",
       "    }\n",
       "</style>\n",
       "<table border=\"1\" class=\"dataframe\">\n",
       "  <thead>\n",
       "    <tr style=\"text-align: right;\">\n",
       "      <th></th>\n",
       "      <th>SG_UF_NOT</th>\n",
       "      <th>ID_MUNICIP</th>\n",
       "      <th>DT_NOTIFIC</th>\n",
       "      <th>Notificações</th>\n",
       "    </tr>\n",
       "  </thead>\n",
       "  <tbody>\n",
       "    <tr>\n",
       "      <th>0</th>\n",
       "      <td>AC</td>\n",
       "      <td>120001</td>\n",
       "      <td>2007-01-10</td>\n",
       "      <td>1</td>\n",
       "    </tr>\n",
       "    <tr>\n",
       "      <th>1</th>\n",
       "      <td>AC</td>\n",
       "      <td>120001</td>\n",
       "      <td>2007-02-06</td>\n",
       "      <td>1</td>\n",
       "    </tr>\n",
       "    <tr>\n",
       "      <th>2</th>\n",
       "      <td>AC</td>\n",
       "      <td>120001</td>\n",
       "      <td>2007-02-26</td>\n",
       "      <td>1</td>\n",
       "    </tr>\n",
       "    <tr>\n",
       "      <th>3</th>\n",
       "      <td>AC</td>\n",
       "      <td>120001</td>\n",
       "      <td>2007-02-28</td>\n",
       "      <td>3</td>\n",
       "    </tr>\n",
       "    <tr>\n",
       "      <th>4</th>\n",
       "      <td>AC</td>\n",
       "      <td>120001</td>\n",
       "      <td>2007-03-13</td>\n",
       "      <td>1</td>\n",
       "    </tr>\n",
       "    <tr>\n",
       "      <th>...</th>\n",
       "      <td>...</td>\n",
       "      <td>...</td>\n",
       "      <td>...</td>\n",
       "      <td>...</td>\n",
       "    </tr>\n",
       "    <tr>\n",
       "      <th>3854338</th>\n",
       "      <td>TO</td>\n",
       "      <td>354990</td>\n",
       "      <td>2016-03-11</td>\n",
       "      <td>1</td>\n",
       "    </tr>\n",
       "    <tr>\n",
       "      <th>3854339</th>\n",
       "      <td>TO</td>\n",
       "      <td>354990</td>\n",
       "      <td>2016-03-14</td>\n",
       "      <td>1</td>\n",
       "    </tr>\n",
       "    <tr>\n",
       "      <th>3854340</th>\n",
       "      <td>TO</td>\n",
       "      <td>410830</td>\n",
       "      <td>2016-03-06</td>\n",
       "      <td>1</td>\n",
       "    </tr>\n",
       "    <tr>\n",
       "      <th>3854341</th>\n",
       "      <td>TO</td>\n",
       "      <td>410830</td>\n",
       "      <td>2016-03-14</td>\n",
       "      <td>1</td>\n",
       "    </tr>\n",
       "    <tr>\n",
       "      <th>3854342</th>\n",
       "      <td>TO</td>\n",
       "      <td>5208707</td>\n",
       "      <td>2002-12-23</td>\n",
       "      <td>1</td>\n",
       "    </tr>\n",
       "  </tbody>\n",
       "</table>\n",
       "<p>3854343 rows × 4 columns</p>\n",
       "</div>"
      ],
      "text/plain": [
       "        SG_UF_NOT ID_MUNICIP DT_NOTIFIC  Notificações\n",
       "0              AC     120001 2007-01-10             1\n",
       "1              AC     120001 2007-02-06             1\n",
       "2              AC     120001 2007-02-26             1\n",
       "3              AC     120001 2007-02-28             3\n",
       "4              AC     120001 2007-03-13             1\n",
       "...           ...        ...        ...           ...\n",
       "3854338        TO     354990 2016-03-11             1\n",
       "3854339        TO     354990 2016-03-14             1\n",
       "3854340        TO     410830 2016-03-06             1\n",
       "3854341        TO     410830 2016-03-14             1\n",
       "3854342        TO    5208707 2002-12-23             1\n",
       "\n",
       "[3854343 rows x 4 columns]"
      ]
     },
     "execution_count": 28,
     "metadata": {},
     "output_type": "execute_result"
    }
   ],
   "source": [
    "df_series"
   ]
  },
  {
   "cell_type": "code",
   "execution_count": null,
   "metadata": {},
   "outputs": [],
   "source": []
  },
  {
   "cell_type": "code",
   "execution_count": 29,
   "metadata": {},
   "outputs": [
    {
     "data": {
      "text/plain": [
       "Timestamp('2000-01-01 00:00:00')"
      ]
     },
     "execution_count": 29,
     "metadata": {},
     "output_type": "execute_result"
    }
   ],
   "source": [
    "df_series['DT_NOTIFIC'].min()"
   ]
  },
  {
   "cell_type": "code",
   "execution_count": 30,
   "metadata": {},
   "outputs": [
    {
     "data": {
      "text/plain": [
       "Timestamp('2023-12-30 00:00:00')"
      ]
     },
     "execution_count": 30,
     "metadata": {},
     "output_type": "execute_result"
    }
   ],
   "source": [
    "df_series['DT_NOTIFIC'].max()"
   ]
  },
  {
   "cell_type": "code",
   "execution_count": 31,
   "metadata": {},
   "outputs": [],
   "source": [
    "df_pivot = df_series.pivot_table(values = 'Notificações', index = 'DT_NOTIFIC', columns=['SG_UF_NOT', 'ID_MUNICIP'])"
   ]
  },
  {
   "cell_type": "code",
   "execution_count": null,
   "metadata": {},
   "outputs": [],
   "source": []
  },
  {
   "cell_type": "code",
   "execution_count": 32,
   "metadata": {},
   "outputs": [],
   "source": [
    "df_month_pivot = df_pivot.resample('M').sum().reset_index()#melt(var_name=['SG_UF_NOT', 'ID_MUNICIP'], id_vars=['DT_NOTIFIC'], value_name='Notificações')"
   ]
  },
  {
   "cell_type": "code",
   "execution_count": 33,
   "metadata": {},
   "outputs": [
    {
     "data": {
      "text/html": [
       "<div>\n",
       "<style scoped>\n",
       "    .dataframe tbody tr th:only-of-type {\n",
       "        vertical-align: middle;\n",
       "    }\n",
       "\n",
       "    .dataframe tbody tr th {\n",
       "        vertical-align: top;\n",
       "    }\n",
       "\n",
       "    .dataframe thead tr th {\n",
       "        text-align: left;\n",
       "    }\n",
       "</style>\n",
       "<table border=\"1\" class=\"dataframe\">\n",
       "  <thead>\n",
       "    <tr>\n",
       "      <th>SG_UF_NOT</th>\n",
       "      <th>DT_NOTIFIC</th>\n",
       "      <th colspan=\"9\" halign=\"left\">AC</th>\n",
       "      <th>...</th>\n",
       "      <th colspan=\"10\" halign=\"left\">TO</th>\n",
       "    </tr>\n",
       "    <tr>\n",
       "      <th>ID_MUNICIP</th>\n",
       "      <th></th>\n",
       "      <th>120001</th>\n",
       "      <th>1200013</th>\n",
       "      <th>120005</th>\n",
       "      <th>1200054</th>\n",
       "      <th>120010</th>\n",
       "      <th>1200104</th>\n",
       "      <th>120013</th>\n",
       "      <th>1200138</th>\n",
       "      <th>120017</th>\n",
       "      <th>...</th>\n",
       "      <th>1722107</th>\n",
       "      <th>210160</th>\n",
       "      <th>230660</th>\n",
       "      <th>230900</th>\n",
       "      <th>241040</th>\n",
       "      <th>312400</th>\n",
       "      <th>354220</th>\n",
       "      <th>354990</th>\n",
       "      <th>410830</th>\n",
       "      <th>5208707</th>\n",
       "    </tr>\n",
       "  </thead>\n",
       "  <tbody>\n",
       "    <tr>\n",
       "      <th>0</th>\n",
       "      <td>2000-01-31</td>\n",
       "      <td>0.0</td>\n",
       "      <td>0.0</td>\n",
       "      <td>0.0</td>\n",
       "      <td>0.0</td>\n",
       "      <td>0.0</td>\n",
       "      <td>0.0</td>\n",
       "      <td>0.0</td>\n",
       "      <td>0.0</td>\n",
       "      <td>0.0</td>\n",
       "      <td>...</td>\n",
       "      <td>0.0</td>\n",
       "      <td>0.0</td>\n",
       "      <td>0.0</td>\n",
       "      <td>0.0</td>\n",
       "      <td>0.0</td>\n",
       "      <td>0.0</td>\n",
       "      <td>0.0</td>\n",
       "      <td>0.0</td>\n",
       "      <td>0.0</td>\n",
       "      <td>0.0</td>\n",
       "    </tr>\n",
       "    <tr>\n",
       "      <th>1</th>\n",
       "      <td>2000-02-29</td>\n",
       "      <td>0.0</td>\n",
       "      <td>0.0</td>\n",
       "      <td>0.0</td>\n",
       "      <td>0.0</td>\n",
       "      <td>0.0</td>\n",
       "      <td>1.0</td>\n",
       "      <td>0.0</td>\n",
       "      <td>0.0</td>\n",
       "      <td>0.0</td>\n",
       "      <td>...</td>\n",
       "      <td>1.0</td>\n",
       "      <td>0.0</td>\n",
       "      <td>0.0</td>\n",
       "      <td>0.0</td>\n",
       "      <td>0.0</td>\n",
       "      <td>0.0</td>\n",
       "      <td>0.0</td>\n",
       "      <td>0.0</td>\n",
       "      <td>0.0</td>\n",
       "      <td>0.0</td>\n",
       "    </tr>\n",
       "    <tr>\n",
       "      <th>2</th>\n",
       "      <td>2000-03-31</td>\n",
       "      <td>0.0</td>\n",
       "      <td>0.0</td>\n",
       "      <td>0.0</td>\n",
       "      <td>0.0</td>\n",
       "      <td>0.0</td>\n",
       "      <td>0.0</td>\n",
       "      <td>0.0</td>\n",
       "      <td>0.0</td>\n",
       "      <td>0.0</td>\n",
       "      <td>...</td>\n",
       "      <td>5.0</td>\n",
       "      <td>0.0</td>\n",
       "      <td>0.0</td>\n",
       "      <td>0.0</td>\n",
       "      <td>0.0</td>\n",
       "      <td>0.0</td>\n",
       "      <td>0.0</td>\n",
       "      <td>0.0</td>\n",
       "      <td>0.0</td>\n",
       "      <td>0.0</td>\n",
       "    </tr>\n",
       "    <tr>\n",
       "      <th>3</th>\n",
       "      <td>2000-04-30</td>\n",
       "      <td>0.0</td>\n",
       "      <td>0.0</td>\n",
       "      <td>0.0</td>\n",
       "      <td>0.0</td>\n",
       "      <td>0.0</td>\n",
       "      <td>1.0</td>\n",
       "      <td>0.0</td>\n",
       "      <td>0.0</td>\n",
       "      <td>0.0</td>\n",
       "      <td>...</td>\n",
       "      <td>3.0</td>\n",
       "      <td>0.0</td>\n",
       "      <td>0.0</td>\n",
       "      <td>0.0</td>\n",
       "      <td>0.0</td>\n",
       "      <td>0.0</td>\n",
       "      <td>0.0</td>\n",
       "      <td>0.0</td>\n",
       "      <td>0.0</td>\n",
       "      <td>0.0</td>\n",
       "    </tr>\n",
       "    <tr>\n",
       "      <th>4</th>\n",
       "      <td>2000-05-31</td>\n",
       "      <td>0.0</td>\n",
       "      <td>0.0</td>\n",
       "      <td>0.0</td>\n",
       "      <td>0.0</td>\n",
       "      <td>0.0</td>\n",
       "      <td>0.0</td>\n",
       "      <td>0.0</td>\n",
       "      <td>0.0</td>\n",
       "      <td>0.0</td>\n",
       "      <td>...</td>\n",
       "      <td>1.0</td>\n",
       "      <td>0.0</td>\n",
       "      <td>0.0</td>\n",
       "      <td>0.0</td>\n",
       "      <td>0.0</td>\n",
       "      <td>0.0</td>\n",
       "      <td>0.0</td>\n",
       "      <td>0.0</td>\n",
       "      <td>0.0</td>\n",
       "      <td>0.0</td>\n",
       "    </tr>\n",
       "    <tr>\n",
       "      <th>...</th>\n",
       "      <td>...</td>\n",
       "      <td>...</td>\n",
       "      <td>...</td>\n",
       "      <td>...</td>\n",
       "      <td>...</td>\n",
       "      <td>...</td>\n",
       "      <td>...</td>\n",
       "      <td>...</td>\n",
       "      <td>...</td>\n",
       "      <td>...</td>\n",
       "      <td>...</td>\n",
       "      <td>...</td>\n",
       "      <td>...</td>\n",
       "      <td>...</td>\n",
       "      <td>...</td>\n",
       "      <td>...</td>\n",
       "      <td>...</td>\n",
       "      <td>...</td>\n",
       "      <td>...</td>\n",
       "      <td>...</td>\n",
       "      <td>...</td>\n",
       "    </tr>\n",
       "    <tr>\n",
       "      <th>283</th>\n",
       "      <td>2023-08-31</td>\n",
       "      <td>0.0</td>\n",
       "      <td>0.0</td>\n",
       "      <td>4.0</td>\n",
       "      <td>0.0</td>\n",
       "      <td>22.0</td>\n",
       "      <td>0.0</td>\n",
       "      <td>0.0</td>\n",
       "      <td>0.0</td>\n",
       "      <td>0.0</td>\n",
       "      <td>...</td>\n",
       "      <td>0.0</td>\n",
       "      <td>0.0</td>\n",
       "      <td>0.0</td>\n",
       "      <td>0.0</td>\n",
       "      <td>0.0</td>\n",
       "      <td>0.0</td>\n",
       "      <td>0.0</td>\n",
       "      <td>0.0</td>\n",
       "      <td>0.0</td>\n",
       "      <td>0.0</td>\n",
       "    </tr>\n",
       "    <tr>\n",
       "      <th>284</th>\n",
       "      <td>2023-09-30</td>\n",
       "      <td>0.0</td>\n",
       "      <td>0.0</td>\n",
       "      <td>4.0</td>\n",
       "      <td>0.0</td>\n",
       "      <td>14.0</td>\n",
       "      <td>0.0</td>\n",
       "      <td>0.0</td>\n",
       "      <td>0.0</td>\n",
       "      <td>1.0</td>\n",
       "      <td>...</td>\n",
       "      <td>0.0</td>\n",
       "      <td>0.0</td>\n",
       "      <td>0.0</td>\n",
       "      <td>0.0</td>\n",
       "      <td>0.0</td>\n",
       "      <td>0.0</td>\n",
       "      <td>0.0</td>\n",
       "      <td>0.0</td>\n",
       "      <td>0.0</td>\n",
       "      <td>0.0</td>\n",
       "    </tr>\n",
       "    <tr>\n",
       "      <th>285</th>\n",
       "      <td>2023-10-31</td>\n",
       "      <td>2.0</td>\n",
       "      <td>0.0</td>\n",
       "      <td>1.0</td>\n",
       "      <td>0.0</td>\n",
       "      <td>22.0</td>\n",
       "      <td>0.0</td>\n",
       "      <td>2.0</td>\n",
       "      <td>0.0</td>\n",
       "      <td>0.0</td>\n",
       "      <td>...</td>\n",
       "      <td>0.0</td>\n",
       "      <td>0.0</td>\n",
       "      <td>0.0</td>\n",
       "      <td>0.0</td>\n",
       "      <td>0.0</td>\n",
       "      <td>0.0</td>\n",
       "      <td>0.0</td>\n",
       "      <td>0.0</td>\n",
       "      <td>0.0</td>\n",
       "      <td>0.0</td>\n",
       "    </tr>\n",
       "    <tr>\n",
       "      <th>286</th>\n",
       "      <td>2023-11-30</td>\n",
       "      <td>4.0</td>\n",
       "      <td>0.0</td>\n",
       "      <td>7.0</td>\n",
       "      <td>0.0</td>\n",
       "      <td>54.0</td>\n",
       "      <td>0.0</td>\n",
       "      <td>3.0</td>\n",
       "      <td>0.0</td>\n",
       "      <td>91.0</td>\n",
       "      <td>...</td>\n",
       "      <td>0.0</td>\n",
       "      <td>0.0</td>\n",
       "      <td>0.0</td>\n",
       "      <td>0.0</td>\n",
       "      <td>0.0</td>\n",
       "      <td>0.0</td>\n",
       "      <td>0.0</td>\n",
       "      <td>0.0</td>\n",
       "      <td>0.0</td>\n",
       "      <td>0.0</td>\n",
       "    </tr>\n",
       "    <tr>\n",
       "      <th>287</th>\n",
       "      <td>2023-12-31</td>\n",
       "      <td>15.0</td>\n",
       "      <td>0.0</td>\n",
       "      <td>69.0</td>\n",
       "      <td>0.0</td>\n",
       "      <td>476.0</td>\n",
       "      <td>0.0</td>\n",
       "      <td>47.0</td>\n",
       "      <td>0.0</td>\n",
       "      <td>135.0</td>\n",
       "      <td>...</td>\n",
       "      <td>0.0</td>\n",
       "      <td>0.0</td>\n",
       "      <td>0.0</td>\n",
       "      <td>0.0</td>\n",
       "      <td>0.0</td>\n",
       "      <td>0.0</td>\n",
       "      <td>0.0</td>\n",
       "      <td>0.0</td>\n",
       "      <td>0.0</td>\n",
       "      <td>0.0</td>\n",
       "    </tr>\n",
       "  </tbody>\n",
       "</table>\n",
       "<p>288 rows × 10595 columns</p>\n",
       "</div>"
      ],
      "text/plain": [
       "SG_UF_NOT  DT_NOTIFIC     AC                                               \\\n",
       "ID_MUNICIP            120001 1200013 120005 1200054 120010 1200104 120013   \n",
       "0          2000-01-31    0.0     0.0    0.0     0.0    0.0     0.0    0.0   \n",
       "1          2000-02-29    0.0     0.0    0.0     0.0    0.0     1.0    0.0   \n",
       "2          2000-03-31    0.0     0.0    0.0     0.0    0.0     0.0    0.0   \n",
       "3          2000-04-30    0.0     0.0    0.0     0.0    0.0     1.0    0.0   \n",
       "4          2000-05-31    0.0     0.0    0.0     0.0    0.0     0.0    0.0   \n",
       "..                ...    ...     ...    ...     ...    ...     ...    ...   \n",
       "283        2023-08-31    0.0     0.0    4.0     0.0   22.0     0.0    0.0   \n",
       "284        2023-09-30    0.0     0.0    4.0     0.0   14.0     0.0    0.0   \n",
       "285        2023-10-31    2.0     0.0    1.0     0.0   22.0     0.0    2.0   \n",
       "286        2023-11-30    4.0     0.0    7.0     0.0   54.0     0.0    3.0   \n",
       "287        2023-12-31   15.0     0.0   69.0     0.0  476.0     0.0   47.0   \n",
       "\n",
       "SG_UF_NOT                  ...      TO                                     \\\n",
       "ID_MUNICIP 1200138 120017  ... 1722107 210160 230660 230900 241040 312400   \n",
       "0              0.0    0.0  ...     0.0    0.0    0.0    0.0    0.0    0.0   \n",
       "1              0.0    0.0  ...     1.0    0.0    0.0    0.0    0.0    0.0   \n",
       "2              0.0    0.0  ...     5.0    0.0    0.0    0.0    0.0    0.0   \n",
       "3              0.0    0.0  ...     3.0    0.0    0.0    0.0    0.0    0.0   \n",
       "4              0.0    0.0  ...     1.0    0.0    0.0    0.0    0.0    0.0   \n",
       "..             ...    ...  ...     ...    ...    ...    ...    ...    ...   \n",
       "283            0.0    0.0  ...     0.0    0.0    0.0    0.0    0.0    0.0   \n",
       "284            0.0    1.0  ...     0.0    0.0    0.0    0.0    0.0    0.0   \n",
       "285            0.0    0.0  ...     0.0    0.0    0.0    0.0    0.0    0.0   \n",
       "286            0.0   91.0  ...     0.0    0.0    0.0    0.0    0.0    0.0   \n",
       "287            0.0  135.0  ...     0.0    0.0    0.0    0.0    0.0    0.0   \n",
       "\n",
       "SG_UF_NOT                                \n",
       "ID_MUNICIP 354220 354990 410830 5208707  \n",
       "0             0.0    0.0    0.0     0.0  \n",
       "1             0.0    0.0    0.0     0.0  \n",
       "2             0.0    0.0    0.0     0.0  \n",
       "3             0.0    0.0    0.0     0.0  \n",
       "4             0.0    0.0    0.0     0.0  \n",
       "..            ...    ...    ...     ...  \n",
       "283           0.0    0.0    0.0     0.0  \n",
       "284           0.0    0.0    0.0     0.0  \n",
       "285           0.0    0.0    0.0     0.0  \n",
       "286           0.0    0.0    0.0     0.0  \n",
       "287           0.0    0.0    0.0     0.0  \n",
       "\n",
       "[288 rows x 10595 columns]"
      ]
     },
     "execution_count": 33,
     "metadata": {},
     "output_type": "execute_result"
    }
   ],
   "source": [
    "df_month_pivot"
   ]
  },
  {
   "cell_type": "code",
   "execution_count": 34,
   "metadata": {},
   "outputs": [],
   "source": [
    "df_month = pd.melt(df_month_pivot, id_vars='DT_NOTIFIC',  var_name=['SG_UF_NOT', 'ID_MUNICIP'], value_name='Notificações')"
   ]
  },
  {
   "cell_type": "code",
   "execution_count": 35,
   "metadata": {},
   "outputs": [
    {
     "data": {
      "text/html": [
       "<div>\n",
       "<style scoped>\n",
       "    .dataframe tbody tr th:only-of-type {\n",
       "        vertical-align: middle;\n",
       "    }\n",
       "\n",
       "    .dataframe tbody tr th {\n",
       "        vertical-align: top;\n",
       "    }\n",
       "\n",
       "    .dataframe thead th {\n",
       "        text-align: right;\n",
       "    }\n",
       "</style>\n",
       "<table border=\"1\" class=\"dataframe\">\n",
       "  <thead>\n",
       "    <tr style=\"text-align: right;\">\n",
       "      <th></th>\n",
       "      <th>DT_NOTIFIC</th>\n",
       "      <th>SG_UF_NOT</th>\n",
       "      <th>ID_MUNICIP</th>\n",
       "      <th>Notificações</th>\n",
       "    </tr>\n",
       "  </thead>\n",
       "  <tbody>\n",
       "    <tr>\n",
       "      <th>0</th>\n",
       "      <td>2000-01-31</td>\n",
       "      <td>AC</td>\n",
       "      <td>120001</td>\n",
       "      <td>0.0</td>\n",
       "    </tr>\n",
       "    <tr>\n",
       "      <th>1</th>\n",
       "      <td>2000-02-29</td>\n",
       "      <td>AC</td>\n",
       "      <td>120001</td>\n",
       "      <td>0.0</td>\n",
       "    </tr>\n",
       "    <tr>\n",
       "      <th>2</th>\n",
       "      <td>2000-03-31</td>\n",
       "      <td>AC</td>\n",
       "      <td>120001</td>\n",
       "      <td>0.0</td>\n",
       "    </tr>\n",
       "    <tr>\n",
       "      <th>3</th>\n",
       "      <td>2000-04-30</td>\n",
       "      <td>AC</td>\n",
       "      <td>120001</td>\n",
       "      <td>0.0</td>\n",
       "    </tr>\n",
       "    <tr>\n",
       "      <th>4</th>\n",
       "      <td>2000-05-31</td>\n",
       "      <td>AC</td>\n",
       "      <td>120001</td>\n",
       "      <td>0.0</td>\n",
       "    </tr>\n",
       "    <tr>\n",
       "      <th>...</th>\n",
       "      <td>...</td>\n",
       "      <td>...</td>\n",
       "      <td>...</td>\n",
       "      <td>...</td>\n",
       "    </tr>\n",
       "    <tr>\n",
       "      <th>3051067</th>\n",
       "      <td>2023-08-31</td>\n",
       "      <td>TO</td>\n",
       "      <td>5208707</td>\n",
       "      <td>0.0</td>\n",
       "    </tr>\n",
       "    <tr>\n",
       "      <th>3051068</th>\n",
       "      <td>2023-09-30</td>\n",
       "      <td>TO</td>\n",
       "      <td>5208707</td>\n",
       "      <td>0.0</td>\n",
       "    </tr>\n",
       "    <tr>\n",
       "      <th>3051069</th>\n",
       "      <td>2023-10-31</td>\n",
       "      <td>TO</td>\n",
       "      <td>5208707</td>\n",
       "      <td>0.0</td>\n",
       "    </tr>\n",
       "    <tr>\n",
       "      <th>3051070</th>\n",
       "      <td>2023-11-30</td>\n",
       "      <td>TO</td>\n",
       "      <td>5208707</td>\n",
       "      <td>0.0</td>\n",
       "    </tr>\n",
       "    <tr>\n",
       "      <th>3051071</th>\n",
       "      <td>2023-12-31</td>\n",
       "      <td>TO</td>\n",
       "      <td>5208707</td>\n",
       "      <td>0.0</td>\n",
       "    </tr>\n",
       "  </tbody>\n",
       "</table>\n",
       "<p>3051072 rows × 4 columns</p>\n",
       "</div>"
      ],
      "text/plain": [
       "        DT_NOTIFIC SG_UF_NOT ID_MUNICIP  Notificações\n",
       "0       2000-01-31        AC     120001           0.0\n",
       "1       2000-02-29        AC     120001           0.0\n",
       "2       2000-03-31        AC     120001           0.0\n",
       "3       2000-04-30        AC     120001           0.0\n",
       "4       2000-05-31        AC     120001           0.0\n",
       "...            ...       ...        ...           ...\n",
       "3051067 2023-08-31        TO    5208707           0.0\n",
       "3051068 2023-09-30        TO    5208707           0.0\n",
       "3051069 2023-10-31        TO    5208707           0.0\n",
       "3051070 2023-11-30        TO    5208707           0.0\n",
       "3051071 2023-12-31        TO    5208707           0.0\n",
       "\n",
       "[3051072 rows x 4 columns]"
      ]
     },
     "execution_count": 35,
     "metadata": {},
     "output_type": "execute_result"
    }
   ],
   "source": [
    "df_month"
   ]
  },
  {
   "cell_type": "code",
   "execution_count": 36,
   "metadata": {},
   "outputs": [
    {
     "data": {
      "text/plain": [
       "<Axes: xlabel='DT_NOTIFIC'>"
      ]
     },
     "execution_count": 36,
     "metadata": {},
     "output_type": "execute_result"
    },
    {
     "data": {
      "image/png": "[encoded data removed]",
      "text/plain": [
       "<Figure size 640x480 with 1 Axes>"
      ]
     },
     "metadata": {},
     "output_type": "display_data"
    }
   ],
   "source": [
    "import matplotlib.pyplot as plt\n",
    "df_month.query(\"SG_UF_NOT == 'PE' \").groupby('DT_NOTIFIC')['Notificações'].sum().plot()"
   ]
  },
  {
   "cell_type": "code",
   "execution_count": 37,
   "metadata": {},
   "outputs": [],
   "source": [
    "df_month.to_parquet('casos_mensal_br.parquet'  , compression='gzip')"
   ]
  },
  {
   "cell_type": "code",
   "execution_count": 43,
   "metadata": {},
   "outputs": [
    {
     "data": {
      "text/html": [
       "<div>\n",
       "<style scoped>\n",
       "    .dataframe tbody tr th:only-of-type {\n",
       "        vertical-align: middle;\n",
       "    }\n",
       "\n",
       "    .dataframe tbody tr th {\n",
       "        vertical-align: top;\n",
       "    }\n",
       "\n",
       "    .dataframe thead th {\n",
       "        text-align: right;\n",
       "    }\n",
       "</style>\n",
       "<table border=\"1\" class=\"dataframe\">\n",
       "  <thead>\n",
       "    <tr style=\"text-align: right;\">\n",
       "      <th></th>\n",
       "      <th>DT_NOTIFIC</th>\n",
       "      <th>SG_UF_NOT</th>\n",
       "      <th>ID_MUNICIP</th>\n",
       "      <th>Notificações</th>\n",
       "    </tr>\n",
       "  </thead>\n",
       "  <tbody>\n",
       "    <tr>\n",
       "      <th>346475</th>\n",
       "      <td>2000-12-31</td>\n",
       "      <td>BA</td>\n",
       "      <td>293250</td>\n",
       "      <td>0.0</td>\n",
       "    </tr>\n",
       "    <tr>\n",
       "      <th>2006285</th>\n",
       "      <td>2006-06-30</td>\n",
       "      <td>PR</td>\n",
       "      <td>412555</td>\n",
       "      <td>0.0</td>\n",
       "    </tr>\n",
       "    <tr>\n",
       "      <th>1502301</th>\n",
       "      <td>2007-10-31</td>\n",
       "      <td>PB</td>\n",
       "      <td>250810</td>\n",
       "      <td>0.0</td>\n",
       "    </tr>\n",
       "    <tr>\n",
       "      <th>1175475</th>\n",
       "      <td>2012-04-30</td>\n",
       "      <td>MG</td>\n",
       "      <td>316430</td>\n",
       "      <td>0.0</td>\n",
       "    </tr>\n",
       "    <tr>\n",
       "      <th>2306298</th>\n",
       "      <td>2023-07-31</td>\n",
       "      <td>RS</td>\n",
       "      <td>431053</td>\n",
       "      <td>0.0</td>\n",
       "    </tr>\n",
       "    <tr>\n",
       "      <th>1172555</th>\n",
       "      <td>2008-12-31</td>\n",
       "      <td>MG</td>\n",
       "      <td>316370</td>\n",
       "      <td>1.0</td>\n",
       "    </tr>\n",
       "    <tr>\n",
       "      <th>934684</th>\n",
       "      <td>2010-05-31</td>\n",
       "      <td>MG</td>\n",
       "      <td>312590</td>\n",
       "      <td>1.0</td>\n",
       "    </tr>\n",
       "    <tr>\n",
       "      <th>2186443</th>\n",
       "      <td>2019-08-31</td>\n",
       "      <td>RN</td>\n",
       "      <td>410830</td>\n",
       "      <td>0.0</td>\n",
       "    </tr>\n",
       "    <tr>\n",
       "      <th>1745692</th>\n",
       "      <td>2010-05-31</td>\n",
       "      <td>PI</td>\n",
       "      <td>220540</td>\n",
       "      <td>1.0</td>\n",
       "    </tr>\n",
       "    <tr>\n",
       "      <th>2771895</th>\n",
       "      <td>2015-04-30</td>\n",
       "      <td>SP</td>\n",
       "      <td>3527108</td>\n",
       "      <td>0.0</td>\n",
       "    </tr>\n",
       "  </tbody>\n",
       "</table>\n",
       "</div>"
      ],
      "text/plain": [
       "        DT_NOTIFIC SG_UF_NOT ID_MUNICIP  Notificações\n",
       "346475  2000-12-31        BA     293250           0.0\n",
       "2006285 2006-06-30        PR     412555           0.0\n",
       "1502301 2007-10-31        PB     250810           0.0\n",
       "1175475 2012-04-30        MG     316430           0.0\n",
       "2306298 2023-07-31        RS     431053           0.0\n",
       "1172555 2008-12-31        MG     316370           1.0\n",
       "934684  2010-05-31        MG     312590           1.0\n",
       "2186443 2019-08-31        RN     410830           0.0\n",
       "1745692 2010-05-31        PI     220540           1.0\n",
       "2771895 2015-04-30        SP    3527108           0.0"
      ]
     },
     "execution_count": 43,
     "metadata": {},
     "output_type": "execute_result"
    }
   ],
   "source": [
    "df_month.sample(10)"
   ]
  },
  {
   "cell_type": "code",
   "execution_count": 40,
   "metadata": {},
   "outputs": [
    {
     "data": {
      "text/plain": [
       "10314"
      ]
     },
     "execution_count": 40,
     "metadata": {},
     "output_type": "execute_result"
    }
   ],
   "source": [
    "df_month['ID_MUNICIP'].nunique()"
   ]
  },
  {
   "cell_type": "code",
   "execution_count": 41,
   "metadata": {},
   "outputs": [
    {
     "data": {
      "text/plain": [
       "27"
      ]
     },
     "execution_count": 41,
     "metadata": {},
     "output_type": "execute_result"
    }
   ],
   "source": [
    "df_month['SG_UF_NOT'].nunique()"
   ]
  }
 ],
 "metadata": {
  "kernelspec": {
   "display_name": "dengue",
   "language": "python",
   "name": "python3"
  },
  "language_info": {
   "codemirror_mode": {
    "name": "ipython",
    "version": 3
   },
   "file_extension": ".py",
   "mimetype": "text/x-python",
   "name": "python",
   "nbconvert_exporter": "python",
   "pygments_lexer": "ipython3",
   "version": "3.9.18"
  }
 },
 "nbformat": 4,
 "nbformat_minor": 2
}
