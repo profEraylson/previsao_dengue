{
 "cells": [
  {
   "cell_type": "code",
   "execution_count": 1,
   "id": "d6767d47",
   "metadata": {},
   "outputs": [],
   "source": [
    "import pandas as pd"
   ]
  },
  {
   "cell_type": "code",
   "execution_count": null,
   "id": "e4d3e323",
   "metadata": {},
   "outputs": [],
   "source": [
    "import pysus.online_data.SINAN as SINAN\n",
    "\n",
    "SINAN.list_diseases()\n",
    "lista_caminhos = []\n",
    "data_inicio = 2000\n",
    "data_fim = 2023\n",
    "for ano in range(data_inicio, data_fim+1):\n",
    "    print(f\"Ano {ano}\")\n",
    "    caminho = SINAN.download('Dengue', years=int(ano))\n",
    "    lista_caminhos.append(caminho)"
   ]
  },
  {
   "cell_type": "code",
   "execution_count": 2,
   "id": "efef0929",
   "metadata": {},
   "outputs": [],
   "source": [
    "path = '../pysus/'\n",
    "columns_to_select = ['ID_MUNICIP','ID_UNIDADE', 'DT_NOTIFIC', 'SG_UF_NOT', 'SG_UF']"
   ]
  },
  {
   "cell_type": "code",
   "execution_count": null,
   "id": "564efa74",
   "metadata": {},
   "outputs": [],
   "source": [
    "from glob import glob\n",
    "for i, path_file in enumerate(glob(f\"{path}/*.parquet\")):\n",
    "    print(path_file)\n",
    "    if i == 0:\n",
    "        df2 = pd.read_parquet(path_file, columns = columns_to_select )\n",
    "    else:\n",
    "        new_df = pd.read_parquet(path_file, columns = columns_to_select )\n",
    "        df2 = pd.concat([df2, new_df], ignore_index=True)"
   ]
  },
  {
   "cell_type": "code",
   "execution_count": 4,
   "id": "6248234f",
   "metadata": {},
   "outputs": [
    {
     "name": "stdout",
     "output_type": "stream",
     "text": [
      "<class 'pandas.core.frame.DataFrame'>\n",
      "RangeIndex: 24450027 entries, 0 to 24450026\n",
      "Data columns (total 5 columns):\n",
      " #   Column      Dtype \n",
      "---  ------      ----- \n",
      " 0   ID_MUNICIP  object\n",
      " 1   ID_UNIDADE  object\n",
      " 2   DT_NOTIFIC  object\n",
      " 3   SG_UF_NOT   object\n",
      " 4   SG_UF       object\n",
      "dtypes: object(5)\n",
      "memory usage: 932.7+ MB\n"
     ]
    }
   ],
   "source": [
    "df2.info()"
   ]
  },
  {
   "cell_type": "code",
   "execution_count": 5,
   "id": "e03649f0",
   "metadata": {},
   "outputs": [
    {
     "data": {
      "text/plain": [
       "ID_MUNICIP    0\n",
       "ID_UNIDADE    0\n",
       "DT_NOTIFIC    0\n",
       "SG_UF_NOT     0\n",
       "SG_UF         0\n",
       "dtype: int64"
      ]
     },
     "execution_count": 5,
     "metadata": {},
     "output_type": "execute_result"
    }
   ],
   "source": [
    "df2.isna().sum()"
   ]
  },
  {
   "cell_type": "code",
   "execution_count": 6,
   "id": "3746ab29",
   "metadata": {},
   "outputs": [
    {
     "data": {
      "text/plain": [
       "ID_MUNICIP      260410\n",
       "ID_UNIDADE     2345692\n",
       "DT_NOTIFIC    20070618\n",
       "SG_UF_NOT           26\n",
       "SG_UF               26\n",
       "Name: 5081, dtype: object"
      ]
     },
     "execution_count": 6,
     "metadata": {},
     "output_type": "execute_result"
    }
   ],
   "source": [
    "df2.iloc[5081, :]"
   ]
  },
  {
   "cell_type": "code",
   "execution_count": 7,
   "id": "ccd82b46",
   "metadata": {},
   "outputs": [],
   "source": [
    "# df2[\"Ano\"] = df2['DT_NOTIFIC'].apply(lambda x: x[0:4])\n",
    "# df2[\"Mes\"] = df2['DT_NOTIFIC'].apply(lambda x: x[4:6])\n",
    "# df2.query(\"Ano == '2008' \")['Mes'].unique()\n",
    "# df2.query(\"Ano == '2008' and Mes == '\\x105' \")\n",
    "#df2.loc[df2['Mes'] == '\\x105', 'DT_NOTIFIC'] = '200805'"
   ]
  },
  {
   "cell_type": "code",
   "execution_count": 5,
   "id": "17211fb0",
   "metadata": {},
   "outputs": [],
   "source": [
    "df2['DT_NOTIFIC'] = pd.to_datetime(df2['DT_NOTIFIC'], errors = 'coerce')"
   ]
  },
  {
   "cell_type": "code",
   "execution_count": 6,
   "id": "081be8d7",
   "metadata": {},
   "outputs": [
    {
     "data": {
      "text/plain": [
       "1"
      ]
     },
     "execution_count": 6,
     "metadata": {},
     "output_type": "execute_result"
    }
   ],
   "source": [
    "df2['DT_NOTIFIC'].isna().sum()"
   ]
  },
  {
   "cell_type": "code",
   "execution_count": 7,
   "id": "420d02b6",
   "metadata": {},
   "outputs": [],
   "source": [
    "df2 = df2.dropna()"
   ]
  },
  {
   "cell_type": "code",
   "execution_count": 8,
   "id": "7969932f",
   "metadata": {},
   "outputs": [
    {
     "data": {
      "text/plain": [
       "0"
      ]
     },
     "execution_count": 8,
     "metadata": {},
     "output_type": "execute_result"
    }
   ],
   "source": [
    "df2['DT_NOTIFIC'].isna().sum()"
   ]
  },
  {
   "cell_type": "code",
   "execution_count": 10,
   "id": "d431324c",
   "metadata": {},
   "outputs": [],
   "source": [
    "df2.to_parquet('dados_dengue.parquet', compression='gzip')"
   ]
  },
  {
   "cell_type": "code",
   "execution_count": null,
   "id": "8d6217a0",
   "metadata": {},
   "outputs": [],
   "source": [
    "\n",
    "        \n"
   ]
  }
 ],
 "metadata": {
  "kernelspec": {
   "display_name": "Python 3 (ipykernel)",
   "language": "python",
   "name": "python3"
  },
  "language_info": {
   "codemirror_mode": {
    "name": "ipython",
    "version": 3
   },
   "file_extension": ".py",
   "mimetype": "text/x-python",
   "name": "python",
   "nbconvert_exporter": "python",
   "pygments_lexer": "ipython3",
   "version": "3.9.18"
  }
 },
 "nbformat": 4,
 "nbformat_minor": 5
}
